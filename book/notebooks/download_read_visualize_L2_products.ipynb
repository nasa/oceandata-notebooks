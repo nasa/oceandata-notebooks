{
 "cells": [
  {
   "cell_type": "markdown",
   "id": "7f74f742",
   "metadata": {},
   "source": [
    "_Author: Guoqing Wang (guoqing.wang@nasa.gov), OB.DAAC Scientist, NASA GSFC; SSAI_\n",
    "\n",
    "**<ins>Download, read, and visualize level-2 ocean color data</ins>**\n",
    "\n",
    "This tutorial shows an example of downloading, reading, and plot OB.DAAC standard level 2 ocean color file."
   ]
  },
  {
   "cell_type": "code",
   "execution_count": null,
   "id": "0edc313c",
   "metadata": {},
   "outputs": [],
   "source": [
    "# !pip install cartopy\n",
    "# !pip install netcdf4"
   ]
  },
  {
   "cell_type": "code",
   "execution_count": null,
   "id": "269f191a",
   "metadata": {},
   "outputs": [],
   "source": [
    "import warnings\n",
    "warnings.filterwarnings(\"ignore\")"
   ]
  },
  {
   "cell_type": "code",
   "execution_count": null,
   "id": "07e0de15",
   "metadata": {},
   "outputs": [],
   "source": [
    "from matplotlib import pyplot as plt\n",
    "import pandas as pd\n",
    "\n",
    "import numpy as np\n",
    "import urllib.request\n",
    "import netCDF4 as nc\n",
    "import cartopy  #!pip install cartopy\n",
    "from cartopy.mpl.ticker import LongitudeFormatter, LatitudeFormatter"
   ]
  },
  {
   "cell_type": "markdown",
   "id": "78803268",
   "metadata": {},
   "source": [
    "**1. Download file**\n",
    "<br>In this example, I will use the MODIS_AQUA L2 OC file on April 30, 2023 (AQUA_MODIS.20221007T175001.L2.OC.nc).\n",
    "\n",
    "- Specify your **appkey**\n",
    "<br>[Generate appkey for your Earthdata login credentials](https://oceandata.sci.gsfc.nasa.gov/appkey/) and update the variable \"key\" correspondingly."
   ]
  },
  {
   "cell_type": "code",
   "execution_count": null,
   "id": "bf88a107",
   "metadata": {},
   "outputs": [],
   "source": [
    "key = 'abcd1234' # paste your appkey here.\n",
    "filename = 'AQUA_MODIS.20221007T175001.L2.OC.nc' # put here the file name to download\n",
    "urls = r'https://oceandata.sci.gsfc.nasa.gov/ob/getfile/%s?appkey=%s'%(filename, key)\n",
    "\n",
    "urllib.request.urlretrieve(urls, filename) # download the file to the current path"
   ]
  },
  {
   "cell_type": "markdown",
   "id": "23d49965",
   "metadata": {},
   "source": [
    "**2. Loading the Level-2 Dataset** <br>\n",
    "NASA ocean color data are stored in NetCDF files. They can be read with a few different Python modules. The most popular are netCDF4 and gdal. For this script we’ll focus on netCDF4.<br>\n",
    "Loading a dataset is simple, just pass a NetCDF file path to netCDF4.Dataset()."
   ]
  },
  {
   "cell_type": "code",
   "execution_count": null,
   "id": "3cc07810",
   "metadata": {},
   "outputs": [],
   "source": [
    "# open file and print the metadata\n",
    "f = nc.Dataset(filename, 'r')"
   ]
  },
  {
   "cell_type": "markdown",
   "id": "5d1d16cc",
   "metadata": {},
   "source": [
    "A NetCDF file consists of three fundamental components: metadata, dimensions, and variables. Variables encompass both metadata and data. The netCDF4 library enables us to retrieve the metadata and data linked to a NetCDF file.\n",
    "\n",
    "**3. Retrieve Metadata**\n",
    "<br>When we print the dataset f, it provides details about the variables present in the file as well as the groups of variables."
   ]
  },
  {
   "cell_type": "code",
   "execution_count": null,
   "id": "a5008a74",
   "metadata": {},
   "outputs": [],
   "source": [
    "print (f)"
   ]
  },
  {
   "cell_type": "markdown",
   "id": "f738da3a",
   "metadata": {},
   "source": [
    "Above you can see information for the file format, data source, data version, citation, dimensions, and variables. In L2 ocean color data, the variables are put in different groups, the ones that we are interested in, such as Rrs, Chla, etc. are in \"geophysical_data\", and lat, lon are in \"navigation_data\""
   ]
  },
  {
   "cell_type": "code",
   "execution_count": null,
   "id": "30cfeceb",
   "metadata": {},
   "outputs": [],
   "source": [
    "# print grouped variables\n",
    "print(f.groups.keys())"
   ]
  },
  {
   "cell_type": "markdown",
   "id": "d692d153",
   "metadata": {},
   "source": [
    "**4. Dimensions** \n",
    "<br>Accessing dimensions is akin to accessing file metadata. Each dimension is stored as a dimension class that holds relevant information. To retrieve metadata for all dimensions, one can loop through all the available dimensions, as demonstrated below."
   ]
  },
  {
   "cell_type": "code",
   "execution_count": null,
   "id": "b18aef52",
   "metadata": {},
   "outputs": [],
   "source": [
    "for dim in f.dimensions.values():\n",
    "    print(dim)\n",
    "    \n",
    "# Individual dimensions are accessed like so: f.dimensions['x']."
   ]
  },
  {
   "cell_type": "markdown",
   "id": "1a2a35c4",
   "metadata": {},
   "source": [
    "**5. Variable Metadata** <br>\n",
    "Access variable metadata in the groups of \"geophysical_data\" and \"navigation_data\". "
   ]
  },
  {
   "cell_type": "code",
   "execution_count": null,
   "id": "dfd88b8f",
   "metadata": {},
   "outputs": [],
   "source": [
    "#print(f.groups['geophysical_data'].variables)\n",
    "# if you just want to see the variable names, use the following code\n",
    "print(f.groups['geophysical_data'].variables.keys())"
   ]
  },
  {
   "cell_type": "markdown",
   "id": "a44ee26b",
   "metadata": {},
   "source": [
    "**6. Access Data Values**\n",
    "<br>The actual precipitation data values are accessed by array indexing, and a numpy array is returned. All variable data is returned as follows:"
   ]
  },
  {
   "cell_type": "code",
   "execution_count": null,
   "id": "d123d97f",
   "metadata": {},
   "outputs": [],
   "source": [
    "# metadata of variable: chlor_a\n",
    "print(f.groups['geophysical_data'].variables['chlor_a'])"
   ]
  },
  {
   "cell_type": "code",
   "execution_count": null,
   "id": "ce72a428",
   "metadata": {},
   "outputs": [],
   "source": [
    "# value of chlor_a\n",
    "chlor_a = f.groups['geophysical_data'].variables['chlor_a'][:]\n",
    "print(chlor_a)"
   ]
  },
  {
   "cell_type": "code",
   "execution_count": null,
   "id": "658232df",
   "metadata": {
    "scrolled": true
   },
   "outputs": [],
   "source": [
    "# read information of lat, lon\n",
    "print(f.groups['navigation_data'].variables.keys())\n",
    "lat = f.groups['navigation_data'].variables['latitude'][:]\n",
    "lon = f.groups['navigation_data'].variables['longitude'][:]\n",
    "print(lat.shape)\n",
    "print(lon.shape)\n",
    "print(chlor_a.shape)\n",
    "chlor = np.log10(chlor_a)\n"
   ]
  },
  {
   "cell_type": "markdown",
   "id": "6a9a0994",
   "metadata": {},
   "source": [
    "**7. Visualization and mapping**\n",
    "<br>Here, we use cartopy for basemap creation and matplotlib to plot data onto the created map.\n",
    "The combination of Matplotlib and Cartopy provides a powerful toolkit for creating geospatial visualizations."
   ]
  },
  {
   "cell_type": "code",
   "execution_count": null,
   "id": "f739fe1c",
   "metadata": {
    "lines_to_next_cell": 0
   },
   "outputs": [],
   "source": [
    "# Plot Chlor_a data\n",
    "fig = plt.figure(figsize=(10, 7))\n",
    "map_projection = cartopy.crs.PlateCarree()\n",
    "ax = plt.axes(projection=map_projection)\n",
    "\n",
    "im = ax.pcolormesh(lon, lat,np.squeeze(chlor),cmap = 'jet', vmin=-2, vmax=1.3)\n",
    "ax.coastlines()\n",
    "ax.add_feature(cartopy.feature.STATES, linewidth=0.5)\n",
    "\n",
    "ax.set_xticks(np.linspace(-90, -52.5, 5), crs=map_projection)\n",
    "ax.set_yticks(np.linspace(20, 50, 5), crs=map_projection)\n",
    "lon_formatter = LongitudeFormatter(zero_direction_label=True)\n",
    "lat_formatter = LatitudeFormatter()\n",
    "ax.xaxis.set_major_formatter(lon_formatter)\n",
    "ax.yaxis.set_major_formatter(lat_formatter)\n",
    "\n",
    "plt.colorbar(im, label='log10(Chlorophyll-a)',)"
   ]
  },
  {
   "cell_type": "code",
   "execution_count": null,
   "id": "133c21f8",
   "metadata": {
    "lines_to_next_cell": 2
   },
   "outputs": [],
   "source": []
  }
 ],
 "metadata": {
  "jupytext": {
   "cell_metadata_filter": "all,-trusted",
   "main_language": "python",
   "notebook_metadata_filter": "-all,jupytext,language_info.name"
  },
  "kernelspec": {
   "display_name": "Python 3 (ipykernel)",
   "language": "python",
   "name": "python3"
  },
  "language_info": {
   "name": "python"
  }
 },
 "nbformat": 4,
 "nbformat_minor": 5
}
