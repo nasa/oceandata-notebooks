{
 "cells": [
  {
   "cell_type": "markdown",
   "id": "ea73603c",
   "metadata": {},
   "source": [
    "_Author: Guoqing Wang (guoqing.wang@nasa.gov), OB.DAAC Scientist, NASA GSFC; SSAI_\n",
    "\n",
    "**<ins>Read Chlorophyll data from standard L2 file into xarray, and plot it into a map</ins>**\n",
    "</br>Xarray is a powerful Python library designed for working with labeled multi-dimensional arrays. It is particularly useful for handling NetCDF files. </br>\n",
    "Matplotlib is a popular Python library for creating static, animated, and interactive visualizations in a variety of formats. It is widely used for data visualization and plotting. Cartopy is a Python library designed for geospatial data visualization on maps. It is built on top of Matplotlib and provides tools for creating maps, handling projections, and adding geographical features. </br>\n",
    "This turtorial shows an example of using Xarray to read ocean color level 2 file and plot the chlorophyll map with matplotlib and cartopy. \n",
    "\n",
    "**1. Import packages** </br>"
   ]
  },
  {
   "cell_type": "code",
   "execution_count": null,
   "id": "b38b4440",
   "metadata": {},
   "outputs": [],
   "source": [
    "import warnings\n",
    "warnings.filterwarnings(\"ignore\")"
   ]
  },
  {
   "cell_type": "code",
   "execution_count": null,
   "id": "8b706078",
   "metadata": {},
   "outputs": [],
   "source": [
    "# Imports\n",
    "import netCDF4   as nc                     # pip install netCDF4\n",
    "import xarray as xr                   # pip install xarray\n",
    "import os\n",
    "import numpy as np\n",
    "import matplotlib.pyplot as plt\n",
    "\n",
    "import cartopy\n",
    "from cartopy.mpl.ticker import LongitudeFormatter, LatitudeFormatter"
   ]
  },
  {
   "cell_type": "markdown",
   "id": "59f43da6",
   "metadata": {},
   "source": [
    "**2. To read file with different groups, need to find out what are the groups and what variables are inside each group.** "
   ]
  },
  {
   "cell_type": "code",
   "execution_count": null,
   "id": "db6b4a60",
   "metadata": {},
   "outputs": [],
   "source": [
    "# Open the datasets with xarray\n",
    "filename = 'AQUA_MODIS.20221007T175001.L2.OC.nc'\n",
    "ds = xr.open_dataset(filename)\n",
    "# # Open with netcdf4 to check the groups and variables\n",
    "# f = nc.Dataset(filename, 'r')\n",
    "# print(f)\n",
    "# # print grouped variables\n",
    "# print(f.groups.keys())\n",
    "# print(f.groups['geophysical_data'].variables)\n",
    "# # if you just want to see the variable names, use the following code\n",
    "# print(f.groups['geophysical_data'].variables.keys())\n",
    "\n",
    "# Load attributes\n",
    "ds_geo = xr.open_dataset(filename, group='geophysical_data') \n",
    "ds_nav = xr.open_dataset(filename, group='navigation_data')"
   ]
  },
  {
   "cell_type": "code",
   "execution_count": null,
   "id": "6e33a6df",
   "metadata": {},
   "outputs": [],
   "source": [
    "# Use .data_vars to find variable names\n",
    "# ds['navigation_data'].data_vars\n",
    "# ds['geophysical_data'].data_vars\n",
    "\n",
    "# Read chlor_a, latitude, and longitude data from their respective groups\n",
    "lat = ds_nav.latitude\n",
    "lon = ds_nav.longitude\n",
    "chlor_a = ds_geo.chlor_a\n",
    "chlor = np.log10(chlor_a)"
   ]
  },
  {
   "cell_type": "markdown",
   "id": "4beccbbf",
   "metadata": {},
   "source": [
    "**3. Plot the chlorophyll-a data**</br>\n",
    "    \n",
    "- **Use matplotlib**"
   ]
  },
  {
   "cell_type": "code",
   "execution_count": null,
   "id": "e2d1eff9",
   "metadata": {},
   "outputs": [],
   "source": [
    "plt.pcolormesh(lon,lat,np.squeeze(chlor),cmap = 'jet', vmin=-2, vmax=1.3)\n",
    "plt.title(ds.time_coverage_start)\n",
    "plt.xlabel('Longitude')\n",
    "plt.ylabel('Latitude')\n",
    "plt.colorbar(label='log10(Chlorophyll-a)',)\n",
    "\n",
    "plt.show()"
   ]
  },
  {
   "cell_type": "markdown",
   "id": "2ae317d3",
   "metadata": {},
   "source": [
    "- **Use matplotlib and cartopy to plot map with basemap**"
   ]
  },
  {
   "cell_type": "code",
   "execution_count": null,
   "id": "dec8f09d",
   "metadata": {},
   "outputs": [],
   "source": [
    "# Plot Chlor_a data\n",
    "fig = plt.figure(figsize=(10, 7))\n",
    "map_projection = cartopy.crs.PlateCarree()\n",
    "ax = plt.axes(projection=map_projection)\n",
    "\n",
    "im = ax.pcolormesh(lon, lat,np.squeeze(chlor),cmap = 'jet', vmin=-2, vmax=1.3)\n",
    "ax.coastlines()\n",
    "ax.add_feature(cartopy.feature.STATES, linewidth=0.5)\n",
    "\n",
    "ax.set_xticks(np.linspace(-85, -55, 5), crs=map_projection)\n",
    "ax.set_yticks(np.linspace(26, 48, 5), crs=map_projection)\n",
    "lon_formatter = LongitudeFormatter(zero_direction_label=True)\n",
    "lat_formatter = LatitudeFormatter()\n",
    "ax.xaxis.set_major_formatter(lon_formatter)\n",
    "ax.yaxis.set_major_formatter(lat_formatter)\n",
    "\n",
    "plt.colorbar(im, label='log10(Chlorophyll-a)')\n",
    "plt.title(ds.time_coverage_start)"
   ]
  }
 ],
 "metadata": {
  "jupytext": {
   "cell_metadata_filter": "all,-trusted",
   "main_language": "python",
   "notebook_metadata_filter": "-all,jupytext,language_info.name"
  },
  "kernelspec": {
   "display_name": "Python 3 (ipykernel)",
   "language": "python",
   "name": "python3"
  },
  "language_info": {
   "name": "python"
  }
 },
 "nbformat": 4,
 "nbformat_minor": 5
}
