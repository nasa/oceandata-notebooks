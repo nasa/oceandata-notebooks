{
 "cells": [
  {
   "cell_type": "markdown",
   "id": "91140197",
   "metadata": {},
   "source": [
    "_Author: Guoqing Wang (guoqing.wang@nasa.gov), OB.DAAC Scientist, NASA GSFC; SSAI_\n",
    "\n",
    "**<ins>Read and plot NASA ocean color level-3 data - 8-day chlorophyll a, monthly Rrs(412)</ins>**\n",
    "\n",
    "This tutorial shows an example of reading and plotting a level-3 dataset.\n"
   ]
  },
  {
   "cell_type": "code",
   "execution_count": null,
   "id": "6d3c0d9e",
   "metadata": {},
   "outputs": [],
   "source": [
    "# !pip install netCDF4\n",
    "# !pip install cmocean"
   ]
  },
  {
   "cell_type": "code",
   "execution_count": null,
   "id": "5823f98e",
   "metadata": {},
   "outputs": [],
   "source": [
    "import warnings\n",
    "warnings.filterwarnings(\"ignore\")"
   ]
  },
  {
   "cell_type": "code",
   "execution_count": null,
   "id": "a7c033fd",
   "metadata": {},
   "outputs": [],
   "source": [
    "from matplotlib import pyplot as plt\n",
    "# from mpl_toolkits.basemap import Basemap\n",
    "import pandas as pd\n",
    "import netCDF4 as nc\n",
    "import numpy as np\n",
    "import xarray as xr                   # pip install xarray\n",
    "import urllib.request\n",
    "\n",
    "import cartopy\n",
    "from cartopy.mpl.ticker import LongitudeFormatter, LatitudeFormatter"
   ]
  },
  {
   "cell_type": "markdown",
   "id": "3ddc85db",
   "metadata": {},
   "source": [
    "**1. Download file**<br>\n",
    "In this example, the image to be used is MODIS AQUA L3 8day averaged 4km chlorophyll image for Sep 13-20, 2016 </br>\n",
    "- Specify your **appkey**\n",
    "<br>Generate an [appkey](https://oceandata.sci.gsfc.nasa.gov/appkey/) for your Earthdata login credentials and update the following variable \"key\" correspondingly."
   ]
  },
  {
   "cell_type": "code",
   "execution_count": null,
   "id": "a4b79bf9",
   "metadata": {},
   "outputs": [],
   "source": [
    "key = 'abcd1234' # paste your appkey here\n",
    "filename = ['AQUA_MODIS.20160913_20160920.L3m.8D.CHL.chlor_a.4km.nc',\n",
    "            'AQUA_MODIS.20201001_20201031.L3m.MO.RRS.Rrs_412.4km.nc'] \n",
    "# L3 chlorophyll 8-day 4km file\n",
    "# L3 Rrs(412) monthly mean 4km file\n",
    "\n",
    "for file in filename:\n",
    "\n",
    "    urls = r'https://oceandata.sci.gsfc.nasa.gov/ob/getfile/%s?appkey=%s'%(file, key)\n",
    "\n",
    "    urllib.request.urlretrieve(urls, file) # download the file to the current path"
   ]
  },
  {
   "cell_type": "markdown",
   "id": "caaf072b",
   "metadata": {},
   "source": [
    "**2. Read and plot Level-3 8-day chlorophyll a**"
   ]
  },
  {
   "cell_type": "code",
   "execution_count": null,
   "id": "4de290b9",
   "metadata": {},
   "outputs": [],
   "source": [
    "# Open the datasets with xarray\n",
    "filename = 'AQUA_MODIS.20160913_20160920.L3m.8D.CHL.chlor_a.4km.nc'\n",
    "f = nc.Dataset(filename, 'r')\n",
    "# Load attributes\n",
    "ds = xr.open_dataset(filename)"
   ]
  },
  {
   "cell_type": "code",
   "execution_count": null,
   "id": "539bf257",
   "metadata": {},
   "outputs": [],
   "source": [
    "# Use .data_vars to find variable names\n",
    "# ds.data_vars\n",
    "\n",
    "# read chlor_a, latitude, and longitude data \n",
    "lat = ds.chlor_a.lat\n",
    "lon = ds.chlor_a.lon\n",
    "chlor_a = ds.chlor_a.values\n",
    "chlor = np.log10(chlor_a)"
   ]
  },
  {
   "cell_type": "code",
   "execution_count": null,
   "id": "d57f0fc4",
   "metadata": {},
   "outputs": [],
   "source": [
    "# Plot the chlorophyll-a data\n",
    "\n",
    "plt.pcolormesh(lon,lat,np.squeeze(chlor),cmap = 'jet', vmin=-2, vmax=1.3)\n",
    "plt.title(ds.time_coverage_start)\n",
    "plt.xlabel('Longitude')\n",
    "plt.ylabel('Latitude')\n",
    "plt.colorbar(label='Chlorophyll-a',)\n",
    "\n",
    "plt.show()"
   ]
  },
  {
   "cell_type": "markdown",
   "id": "43301162",
   "metadata": {},
   "source": [
    "**3. Read and plot monthly Rrs(412)**"
   ]
  },
  {
   "cell_type": "code",
   "execution_count": null,
   "id": "06bfc1b5",
   "metadata": {},
   "outputs": [],
   "source": [
    "# Open the datasets with xarray\n",
    "filename = 'AQUA_MODIS.20201001_20201031.L3m.MO.RRS.Rrs_412.4km.nc'\n",
    "f = nc.Dataset(filename, 'r')\n",
    "# Load attributes\n",
    "ds = xr.open_dataset(filename)"
   ]
  },
  {
   "cell_type": "code",
   "execution_count": null,
   "id": "677785eb",
   "metadata": {},
   "outputs": [],
   "source": [
    "# # Use .data_vars to find variable names\n",
    "# ds.data_vars\n",
    "\n",
    "# read Rrs, latitude, and longitude data \n",
    "lat = ds.Rrs_412.lat\n",
    "lon = ds.Rrs_412.lon\n",
    "Rrs_412 = ds.Rrs_412.values\n",
    "logRrs = np.log10(Rrs_412)"
   ]
  },
  {
   "cell_type": "markdown",
   "id": "df36e867",
   "metadata": {},
   "source": [
    "Plot Rrs(412) with matplotlib and cartopy"
   ]
  },
  {
   "cell_type": "code",
   "execution_count": null,
   "id": "f31c80e5",
   "metadata": {},
   "outputs": [],
   "source": [
    "# Plot Rrs(412) data\n",
    "fig = plt.figure(figsize=(10, 7))\n",
    "map_projection = cartopy.crs.PlateCarree()\n",
    "ax = plt.axes(projection=map_projection)\n",
    "\n",
    "im = ax.pcolormesh(lon, lat,np.squeeze(logRrs),cmap = 'jet', vmin=-3, vmax=-1)\n",
    "ax.coastlines()\n",
    "ax.add_feature(cartopy.feature.BORDERS, linewidth=0.5)\n",
    "\n",
    "ax.set_xticks(np.linspace(-180, 180, 5), crs=map_projection)\n",
    "ax.set_yticks(np.linspace(-90, 90, 5), crs=map_projection)\n",
    "lon_formatter = LongitudeFormatter(zero_direction_label=True)\n",
    "lat_formatter = LatitudeFormatter()\n",
    "ax.xaxis.set_major_formatter(lon_formatter)\n",
    "ax.yaxis.set_major_formatter(lat_formatter)\n",
    "\n",
    "plt.colorbar(im, label='log10(Rrs(412))')\n",
    "plt.title(ds.time_coverage_start)\n",
    "\n",
    "plt.show()"
   ]
  }
 ],
 "metadata": {
  "jupytext": {
   "cell_metadata_filter": "all,-trusted",
   "main_language": "python",
   "notebook_metadata_filter": "-all,jupytext,language_info.name"
  },
  "kernelspec": {
   "display_name": "Python 3 (ipykernel)",
   "language": "python",
   "name": "python3"
  },
  "language_info": {
   "name": "python"
  }
 },
 "nbformat": 4,
 "nbformat_minor": 5
}
